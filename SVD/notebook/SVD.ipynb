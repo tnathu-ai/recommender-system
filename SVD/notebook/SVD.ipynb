{
 "cells": [
  {
   "attachments": {},
   "cell_type": "markdown",
   "metadata": {},
   "source": [
    "# SVD from scratch using gradient descent\n",
    "\n",
    "uses the described backpropagation algorithm for gradient descent and singular vectors as described in the [article](https://sifter.org/simon/journal/20070815.html)\n",
    "\n",
    "1. Extract user-item interactions from the ratings dataframe.\n",
    "2. Define the SVD model with functions for initializing the user and movie vectors, predicting ratings, and updating the vectors using gradient descent.\n",
    "3. Train the model on the user-item interactions data.\n",
    "4. Use the learned vectors to make predictions on new user-movie pairs.\n",
    "\n",
    "## Data\n",
    "\n",
    "This dataset (ml-latest-small) describes 5-star rating and free-text tagging activity from [MovieLens](http://movielens.org), a movie recommendation service. It contains 100836 ratings and 3683 tag applications across 9742 movies. These data were created by 610 users between March 29, 1996 and September 24, 2018. This dataset was generated on September 26, 2018.\n",
    "\n",
    "Users were selected at random for inclusion. All selected users had rated at least 20 movies. No demographic information is included. Each user is represented by an id, and no other information is provided.\n",
    "\n",
    "The data are contained in the files `links.csv`, `movies.csv`, `ratings.csv` and `tags.csv`. More details about the contents and use of all these files follows.\n",
    "\n",
    "This is a *development* dataset. As such, it may change over time and is not an appropriate dataset for shared research results. See available *benchmark* datasets if that is your intent.\n",
    "\n",
    "This and other GroupLens data sets are publicly available for download at <http://grouplens.org/datasets/>.\n",
    "\n",
    "\n",
    "## Evaluation metric: \n",
    "+ RMSE"
   ]
  },
  {
   "cell_type": "code",
   "execution_count": null,
   "metadata": {},
   "outputs": [],
   "source": [
    "import numpy as np\n",
    "import pandas as pd\n",
    "\n",
    "# evaluate the SVD for the MovieLens dataset\n",
    "from sklearn.metrics import mean_squared_error\n",
    "from math import sqrt\n",
    "from sklearn.model_selection import train_test_split\n",
    "from sklearn.neighbors import NearestNeighbors\n",
    "from sklearn.metrics.pairwise import cosine_similarity\n",
    "\n"
   ]
  },
  {
   "cell_type": "code",
   "execution_count": 3,
   "metadata": {},
   "outputs": [],
   "source": [
    "movies_df = pd.read_csv('../data/ml-latest-small/movies.csv')\n",
    "ratings_df = pd.read_csv('../data/ml-latest-small/ratings.csv')\n",
    "links_df = pd.read_csv('../data/ml-latest-small/links.csv')\n",
    "tags_df = pd.read_csv('../data/ml-latest-small/tags.csv')\n"
   ]
  },
  {
   "cell_type": "code",
   "execution_count": 4,
   "metadata": {},
   "outputs": [
    {
     "name": "stdout",
     "output_type": "stream",
     "text": [
      "<class 'pandas.core.frame.DataFrame'>\n",
      "RangeIndex: 9742 entries, 0 to 9741\n",
      "Data columns (total 3 columns):\n",
      " #   Column   Non-Null Count  Dtype \n",
      "---  ------   --------------  ----- \n",
      " 0   movieId  9742 non-null   int64 \n",
      " 1   title    9742 non-null   object\n",
      " 2   genres   9742 non-null   object\n",
      "dtypes: int64(1), object(2)\n",
      "memory usage: 228.5+ KB\n"
     ]
    },
    {
     "data": {
      "text/html": [
       "<div>\n",
       "<style scoped>\n",
       "    .dataframe tbody tr th:only-of-type {\n",
       "        vertical-align: middle;\n",
       "    }\n",
       "\n",
       "    .dataframe tbody tr th {\n",
       "        vertical-align: top;\n",
       "    }\n",
       "\n",
       "    .dataframe thead th {\n",
       "        text-align: right;\n",
       "    }\n",
       "</style>\n",
       "<table border=\"1\" class=\"dataframe\">\n",
       "  <thead>\n",
       "    <tr style=\"text-align: right;\">\n",
       "      <th></th>\n",
       "      <th>movieId</th>\n",
       "      <th>title</th>\n",
       "      <th>genres</th>\n",
       "    </tr>\n",
       "  </thead>\n",
       "  <tbody>\n",
       "    <tr>\n",
       "      <th>0</th>\n",
       "      <td>1</td>\n",
       "      <td>Toy Story (1995)</td>\n",
       "      <td>Adventure|Animation|Children|Comedy|Fantasy</td>\n",
       "    </tr>\n",
       "    <tr>\n",
       "      <th>1</th>\n",
       "      <td>2</td>\n",
       "      <td>Jumanji (1995)</td>\n",
       "      <td>Adventure|Children|Fantasy</td>\n",
       "    </tr>\n",
       "    <tr>\n",
       "      <th>2</th>\n",
       "      <td>3</td>\n",
       "      <td>Grumpier Old Men (1995)</td>\n",
       "      <td>Comedy|Romance</td>\n",
       "    </tr>\n",
       "  </tbody>\n",
       "</table>\n",
       "</div>"
      ],
      "text/plain": [
       "   movieId                    title  \\\n",
       "0        1         Toy Story (1995)   \n",
       "1        2           Jumanji (1995)   \n",
       "2        3  Grumpier Old Men (1995)   \n",
       "\n",
       "                                        genres  \n",
       "0  Adventure|Animation|Children|Comedy|Fantasy  \n",
       "1                   Adventure|Children|Fantasy  \n",
       "2                               Comedy|Romance  "
      ]
     },
     "execution_count": 4,
     "metadata": {},
     "output_type": "execute_result"
    }
   ],
   "source": [
    "movies_df.info()\n",
    "movies_df.head(3)"
   ]
  },
  {
   "attachments": {},
   "cell_type": "markdown",
   "metadata": {},
   "source": [
    "### --------> OBSERVATIONS:\n",
    "\n",
    "+ movieId: A unique identifier for the movie.\n",
    "+ title: The title of the movie, along with its release year in parentheses.\n",
    "+ genres: The genres associated with the movie, separated by pipe characters (|)."
   ]
  },
  {
   "cell_type": "code",
   "execution_count": 5,
   "metadata": {},
   "outputs": [
    {
     "name": "stdout",
     "output_type": "stream",
     "text": [
      "<class 'pandas.core.frame.DataFrame'>\n",
      "RangeIndex: 100836 entries, 0 to 100835\n",
      "Data columns (total 4 columns):\n",
      " #   Column     Non-Null Count   Dtype  \n",
      "---  ------     --------------   -----  \n",
      " 0   userId     100836 non-null  int64  \n",
      " 1   movieId    100836 non-null  int64  \n",
      " 2   rating     100836 non-null  float64\n",
      " 3   timestamp  100836 non-null  int64  \n",
      "dtypes: float64(1), int64(3)\n",
      "memory usage: 3.1 MB\n"
     ]
    },
    {
     "data": {
      "text/html": [
       "<div>\n",
       "<style scoped>\n",
       "    .dataframe tbody tr th:only-of-type {\n",
       "        vertical-align: middle;\n",
       "    }\n",
       "\n",
       "    .dataframe tbody tr th {\n",
       "        vertical-align: top;\n",
       "    }\n",
       "\n",
       "    .dataframe thead th {\n",
       "        text-align: right;\n",
       "    }\n",
       "</style>\n",
       "<table border=\"1\" class=\"dataframe\">\n",
       "  <thead>\n",
       "    <tr style=\"text-align: right;\">\n",
       "      <th></th>\n",
       "      <th>userId</th>\n",
       "      <th>movieId</th>\n",
       "      <th>rating</th>\n",
       "      <th>timestamp</th>\n",
       "    </tr>\n",
       "  </thead>\n",
       "  <tbody>\n",
       "    <tr>\n",
       "      <th>0</th>\n",
       "      <td>1</td>\n",
       "      <td>1</td>\n",
       "      <td>4.0</td>\n",
       "      <td>964982703</td>\n",
       "    </tr>\n",
       "    <tr>\n",
       "      <th>1</th>\n",
       "      <td>1</td>\n",
       "      <td>3</td>\n",
       "      <td>4.0</td>\n",
       "      <td>964981247</td>\n",
       "    </tr>\n",
       "    <tr>\n",
       "      <th>2</th>\n",
       "      <td>1</td>\n",
       "      <td>6</td>\n",
       "      <td>4.0</td>\n",
       "      <td>964982224</td>\n",
       "    </tr>\n",
       "  </tbody>\n",
       "</table>\n",
       "</div>"
      ],
      "text/plain": [
       "   userId  movieId  rating  timestamp\n",
       "0       1        1     4.0  964982703\n",
       "1       1        3     4.0  964981247\n",
       "2       1        6     4.0  964982224"
      ]
     },
     "execution_count": 5,
     "metadata": {},
     "output_type": "execute_result"
    }
   ],
   "source": [
    "ratings_df.info()\n",
    "ratings_df.head(3)"
   ]
  },
  {
   "attachments": {},
   "cell_type": "markdown",
   "metadata": {},
   "source": [
    "### --------> OBSERVATIONS:\n",
    "\n",
    "+ userId: A unique identifier for the user who provided the rating.\n",
    "+ movieId: A unique identifier for the movie, which is consistent with the movieId in the movies.csv file.\n",
    "+ rating: The user's rating for the movie on a scale of 0.5 to 5 stars, given in increments of 0.5 stars.\n",
    "+ timestamp: The Unix timestamp representing the time at which the user provided the rating."
   ]
  },
  {
   "cell_type": "code",
   "execution_count": 6,
   "metadata": {},
   "outputs": [
    {
     "name": "stdout",
     "output_type": "stream",
     "text": [
      "<class 'pandas.core.frame.DataFrame'>\n",
      "RangeIndex: 9742 entries, 0 to 9741\n",
      "Data columns (total 3 columns):\n",
      " #   Column   Non-Null Count  Dtype  \n",
      "---  ------   --------------  -----  \n",
      " 0   movieId  9742 non-null   int64  \n",
      " 1   imdbId   9742 non-null   int64  \n",
      " 2   tmdbId   9734 non-null   float64\n",
      "dtypes: float64(1), int64(2)\n",
      "memory usage: 228.5 KB\n"
     ]
    },
    {
     "data": {
      "text/html": [
       "<div>\n",
       "<style scoped>\n",
       "    .dataframe tbody tr th:only-of-type {\n",
       "        vertical-align: middle;\n",
       "    }\n",
       "\n",
       "    .dataframe tbody tr th {\n",
       "        vertical-align: top;\n",
       "    }\n",
       "\n",
       "    .dataframe thead th {\n",
       "        text-align: right;\n",
       "    }\n",
       "</style>\n",
       "<table border=\"1\" class=\"dataframe\">\n",
       "  <thead>\n",
       "    <tr style=\"text-align: right;\">\n",
       "      <th></th>\n",
       "      <th>movieId</th>\n",
       "      <th>imdbId</th>\n",
       "      <th>tmdbId</th>\n",
       "    </tr>\n",
       "  </thead>\n",
       "  <tbody>\n",
       "    <tr>\n",
       "      <th>0</th>\n",
       "      <td>1</td>\n",
       "      <td>114709</td>\n",
       "      <td>862.0</td>\n",
       "    </tr>\n",
       "    <tr>\n",
       "      <th>1</th>\n",
       "      <td>2</td>\n",
       "      <td>113497</td>\n",
       "      <td>8844.0</td>\n",
       "    </tr>\n",
       "    <tr>\n",
       "      <th>2</th>\n",
       "      <td>3</td>\n",
       "      <td>113228</td>\n",
       "      <td>15602.0</td>\n",
       "    </tr>\n",
       "  </tbody>\n",
       "</table>\n",
       "</div>"
      ],
      "text/plain": [
       "   movieId  imdbId   tmdbId\n",
       "0        1  114709    862.0\n",
       "1        2  113497   8844.0\n",
       "2        3  113228  15602.0"
      ]
     },
     "execution_count": 6,
     "metadata": {},
     "output_type": "execute_result"
    }
   ],
   "source": [
    "links_df.info()\n",
    "links_df.head(3)"
   ]
  },
  {
   "attachments": {},
   "cell_type": "markdown",
   "metadata": {},
   "source": [
    "### ------> OBSERVATIONS:\n",
    "\n",
    "+ movieId: A unique identifier for the movie, which is consistent with the movieId in the movies.csv file.\n",
    "+ imdbId: The Internet Movie Database (IMDb) identifier for the movie. \n",
    "+ tmdbId: The Movie Database (TMDb) identifier for the movie. "
   ]
  },
  {
   "cell_type": "code",
   "execution_count": 7,
   "metadata": {},
   "outputs": [
    {
     "name": "stdout",
     "output_type": "stream",
     "text": [
      "<class 'pandas.core.frame.DataFrame'>\n",
      "RangeIndex: 3683 entries, 0 to 3682\n",
      "Data columns (total 4 columns):\n",
      " #   Column     Non-Null Count  Dtype \n",
      "---  ------     --------------  ----- \n",
      " 0   userId     3683 non-null   int64 \n",
      " 1   movieId    3683 non-null   int64 \n",
      " 2   tag        3683 non-null   object\n",
      " 3   timestamp  3683 non-null   int64 \n",
      "dtypes: int64(3), object(1)\n",
      "memory usage: 115.2+ KB\n"
     ]
    },
    {
     "data": {
      "text/html": [
       "<div>\n",
       "<style scoped>\n",
       "    .dataframe tbody tr th:only-of-type {\n",
       "        vertical-align: middle;\n",
       "    }\n",
       "\n",
       "    .dataframe tbody tr th {\n",
       "        vertical-align: top;\n",
       "    }\n",
       "\n",
       "    .dataframe thead th {\n",
       "        text-align: right;\n",
       "    }\n",
       "</style>\n",
       "<table border=\"1\" class=\"dataframe\">\n",
       "  <thead>\n",
       "    <tr style=\"text-align: right;\">\n",
       "      <th></th>\n",
       "      <th>userId</th>\n",
       "      <th>movieId</th>\n",
       "      <th>tag</th>\n",
       "      <th>timestamp</th>\n",
       "    </tr>\n",
       "  </thead>\n",
       "  <tbody>\n",
       "    <tr>\n",
       "      <th>0</th>\n",
       "      <td>2</td>\n",
       "      <td>60756</td>\n",
       "      <td>funny</td>\n",
       "      <td>1445714994</td>\n",
       "    </tr>\n",
       "    <tr>\n",
       "      <th>1</th>\n",
       "      <td>2</td>\n",
       "      <td>60756</td>\n",
       "      <td>Highly quotable</td>\n",
       "      <td>1445714996</td>\n",
       "    </tr>\n",
       "    <tr>\n",
       "      <th>2</th>\n",
       "      <td>2</td>\n",
       "      <td>60756</td>\n",
       "      <td>will ferrell</td>\n",
       "      <td>1445714992</td>\n",
       "    </tr>\n",
       "  </tbody>\n",
       "</table>\n",
       "</div>"
      ],
      "text/plain": [
       "   userId  movieId              tag   timestamp\n",
       "0       2    60756            funny  1445714994\n",
       "1       2    60756  Highly quotable  1445714996\n",
       "2       2    60756     will ferrell  1445714992"
      ]
     },
     "execution_count": 7,
     "metadata": {},
     "output_type": "execute_result"
    }
   ],
   "source": [
    "tags_df.info()\n",
    "tags_df.head(3)"
   ]
  },
  {
   "attachments": {},
   "cell_type": "markdown",
   "metadata": {},
   "source": [
    "### --------> OBSERVATIONS:\n",
    "\n",
    "+ userId: A unique identifier for the user who assigned the tag.\n",
    "+ movieId: A unique identifier for the movie, which is consistent with the movieId in the movies.csv file.\n",
    "+ tag: A text label assigned by the user to describe or categorize the movie.\n",
    "+ timestamp: The Unix timestamp representing the time at which the user assigned the tag."
   ]
  },
  {
   "cell_type": "code",
   "execution_count": 8,
   "metadata": {},
   "outputs": [],
   "source": [
    "# Extract user-item interactions from the ratings DataFrame\n",
    "user_item_ratings = ratings_df[['userId', 'movieId', 'rating']]\n",
    "\n",
    "# Define the SVD (Singular Value Decomposition) model class\n",
    "class SVD:\n",
    "    def __init__(self, num_factors, learning_rate, num_epochs):\n",
    "        # Initialize model parameters: number of factors (dimensionality of the user/item embeddings),\n",
    "        # learning rate for stochastic gradient descent, and number of epochs for training\n",
    "        self.num_factors = num_factors\n",
    "        self.learning_rate = learning_rate\n",
    "        self.num_epochs = num_epochs\n",
    "\n",
    "    def fit(self, user_item_ratings):\n",
    "        # Initialize user and movie factors as random matrices with dimensions (# of unique users/items) x (num_factors)\n",
    "        self.user_factors = np.random.randn(user_item_ratings.userId.nunique(), self.num_factors)\n",
    "        self.movie_factors = np.random.randn(user_item_ratings.movieId.nunique(), self.num_factors)\n",
    "        \n",
    "        # Create dictionaries mapping user/movie IDs to their corresponding indices in the factor matrices\n",
    "        self.user_index = {user_id: idx for idx, user_id in enumerate(user_item_ratings.userId.unique())}\n",
    "        self.movie_index = {movie_id: idx for idx, movie_id in enumerate(user_item_ratings.movieId.unique())}\n",
    "\n",
    "        # Iterate through the data num_epochs times\n",
    "        for epoch in range(self.num_epochs):\n",
    "            # Iterate over all user-movie interactions in the data\n",
    "            for _, (user_id, movie_id, rating) in user_item_ratings.iterrows():\n",
    "                # Get user/movie indices\n",
    "                user_idx = self.user_index[user_id]\n",
    "                movie_idx = self.movie_index[movie_id]\n",
    "\n",
    "                # Predict the rating and calculate the prediction error\n",
    "                prediction = np.dot(self.user_factors[user_idx], self.movie_factors[movie_idx])\n",
    "                error = rating - prediction\n",
    "\n",
    "                # Update user and movie factors using the calculated error, and the learning rate\n",
    "                self.user_factors[user_idx] += self.learning_rate * error * self.movie_factors[movie_idx]\n",
    "                self.movie_factors[movie_idx] += self.learning_rate * error * self.user_factors[user_idx]\n",
    "\n",
    "    def predict(self, user_id, movie_id):\n",
    "        # Get user/movie indices\n",
    "        user_idx = self.user_index.get(user_id, -1)\n",
    "        movie_idx = self.movie_index.get(movie_id, -1)\n",
    "\n",
    "        # If the user or movie is unknown, return None\n",
    "        if user_idx == -1 or movie_idx == -1:\n",
    "            return None\n",
    "\n",
    "        # Predict the rating as the dot product of user and movie factors\n",
    "        return np.dot(self.user_factors[user_idx], self.movie_factors[movie_idx])\n"
   ]
  },
  {
   "cell_type": "code",
   "execution_count": 10,
   "metadata": {},
   "outputs": [
    {
     "name": "stdout",
     "output_type": "stream",
     "text": [
      "Root Mean Squared Error: 2.0974801454615064\n",
      "Mean Absolute Error: 1.3493420650933812\n",
      "CPU times: user 4min 53s, sys: 1.08 s, total: 4min 54s\n",
      "Wall time: 4min 55s\n"
     ]
    }
   ],
   "source": [
    "%%time\n",
    "\n",
    "def rmse(y_true, y_pred):\n",
    "    mse = mean_squared_error(y_true, y_pred)\n",
    "    return sqrt(mse)\n",
    "\n",
    "def mae(y_true, y_pred):\n",
    "    return np.mean(np.abs(np.array(y_true) - np.array(y_pred)))\n",
    "\n",
    "\n",
    "# Split the data into train and test sets\n",
    "train_df, test_df = train_test_split(user_item_ratings, test_size=0.2, random_state=42)\n",
    "\n",
    "# Train the model on the train set\n",
    "model_SVD = SVD(num_factors=35, learning_rate=0.001, num_epochs=100)\n",
    "model_SVD.fit(train_df)\n",
    "\n",
    "# Predict and evaluate on the test set\n",
    "y_true = []\n",
    "y_pred = []\n",
    "\n",
    "for _, (user_id, movie_id, rating) in test_df.iterrows():\n",
    "    prediction = model_SVD.predict(user_id, movie_id)\n",
    "    \n",
    "    if prediction is not None:\n",
    "        y_true.append(rating)\n",
    "        y_pred.append(prediction)\n",
    "\n",
    "rmse_value = rmse(y_true, y_pred)\n",
    "print(f\"Root Mean Squared Error: {rmse_value}\")\n",
    "print(f\"Mean Absolute Error: {mae(y_true, y_pred)}\")\n"
   ]
  },
  {
   "attachments": {},
   "cell_type": "markdown",
   "metadata": {},
   "source": [
    "### ----------> OBSERVATIONS: \n",
    "\n",
    "The model's Root Mean Squared Error (RMSE) is 2.097, and the Mean Absolute Error (MAE) is 1.349. These values indicate that on average, the model's predictions are approximately 2.1 and 1.35 rating points off from the actual ratings, respectively. Given the rating scale of 0.5 to 5.0, these errors are relatively high, suggesting that the model's accuracy could be improved. The total computation time was approximately 4 minutes and 55 seconds."
   ]
  },
  {
   "attachments": {},
   "cell_type": "markdown",
   "metadata": {},
   "source": [
    "# KNN Based CF"
   ]
  },
  {
   "cell_type": "code",
   "execution_count": 16,
   "metadata": {},
   "outputs": [],
   "source": [
    "class KNN_CF:\n",
    "    def __init__(self, k, user_based=True):\n",
    "        # Initialize model parameters: number of neighbors (K) and whether the model is user-based or item-based\n",
    "        self.k = k\n",
    "        self.user_based = user_based\n",
    "\n",
    "        # Initialize the KNN model\n",
    "        self.model = NearestNeighbors(n_neighbors=self.k, metric='cosine')\n",
    "\n",
    "    def fit(self, user_item_ratings):\n",
    "        # Create a user-item interactions matrix\n",
    "        self.interactions_matrix = user_item_ratings.pivot(index='userId', columns='movieId', values='rating').fillna(0)\n",
    "\n",
    "        # If the model is item-based, transpose the interactions matrix\n",
    "        if not self.user_based:\n",
    "            self.interactions_matrix = self.interactions_matrix.T\n",
    "\n",
    "        # Fit the KNN model\n",
    "        self.model.fit(self.interactions_matrix)\n",
    "\n",
    "    def predict(self, user_id, movie_id):\n",
    "        # If the model is user-based\n",
    "        if self.user_based:\n",
    "            # If the user or movie is unknown, return None\n",
    "            if user_id not in self.interactions_matrix.index or movie_id not in self.interactions_matrix.columns:\n",
    "                return None\n",
    "\n",
    "            # Find the K nearest neighbors to the user\n",
    "            distances, indices = self.model.kneighbors(self.interactions_matrix.loc[user_id].values.reshape(1, -1))\n",
    "\n",
    "            # Calculate the predicted rating as the weighted average of the neighbors' ratings for the movie\n",
    "            weights = 1 - distances.flatten()\n",
    "            ratings = self.interactions_matrix.iloc[indices.flatten()].loc[:, movie_id]\n",
    "            prediction = np.dot(ratings, weights) / np.sum(weights)\n",
    "\n",
    "            return prediction\n",
    "\n",
    "        # If the model is item-based\n",
    "        else:\n",
    "            # If the user or movie is unknown, return None\n",
    "            if user_id not in self.interactions_matrix.columns or movie_id not in self.interactions_matrix.index:\n",
    "                return None\n",
    "\n",
    "            # Find the K nearest neighbors to the movie\n",
    "            distances, indices = self.model.kneighbors(self.interactions_matrix.loc[movie_id].values.reshape(1, -1))\n",
    "\n",
    "            # Calculate the predicted rating as the weighted average of the neighbors' ratings by the user\n",
    "            weights = 1 - distances.flatten()\n",
    "            ratings = self.interactions_matrix.iloc[indices.flatten()].loc[:, user_id]\n",
    "            prediction = np.dot(ratings, weights) / np.sum(weights)\n",
    "\n",
    "            return prediction"
   ]
  },
  {
   "attachments": {},
   "cell_type": "markdown",
   "metadata": {},
   "source": [
    "# User-Based Collaborative Filtering\n",
    "\n",
    "the model finds users that are similar to the target user based on their rating history. It then predicts the target user's rating for a specific item based on the ratings given to that item by the similar users.\n",
    "\n"
   ]
  },
  {
   "cell_type": "code",
   "execution_count": 17,
   "metadata": {},
   "outputs": [
    {
     "name": "stdout",
     "output_type": "stream",
     "text": [
      "Root Mean Squared Error: 1.4820965972028965\n",
      "Mean Absolute Error: 1.2579065539751189\n",
      "CPU times: user 30min 22s, sys: 8min 11s, total: 38min 34s\n",
      "Wall time: 4min 16s\n"
     ]
    }
   ],
   "source": [
    "%%time\n",
    "# Initialize and train the User based KNN_CF model\n",
    "model_user_based_knn_cf = KNN_CF(k=5, user_based=True)\n",
    "model_user_based_knn_cf.fit(user_item_ratings)\n",
    "\n",
    "# predict and evaluate on the test set\n",
    "y_true = []\n",
    "y_pred = []\n",
    "\n",
    "for _, (user_id, movie_id, rating) in test_df.iterrows():\n",
    "    prediction = model_user_based_knn_cf.predict(user_id, movie_id)\n",
    "    \n",
    "    if prediction is not None:\n",
    "        y_true.append(rating)\n",
    "        y_pred.append(prediction)\n",
    "\n",
    "print(f\"Root Mean Squared Error: {rmse(y_true, y_pred)}\")\n",
    "print(f\"Mean Absolute Error: {mae(y_true, y_pred)}\")"
   ]
  },
  {
   "attachments": {},
   "cell_type": "markdown",
   "metadata": {},
   "source": [
    "### -------> OBSERVATION: \n",
    "\n",
    "The User-Based Collaborative Filtering model has an RMSE of 1.4821 and an MAE of 1.2579. These values represent the average discrepancy between the predicted and actual ratings. Given the rating scale of 0.5 to 5.0, these results are moderately good, suggesting the model's predictions are reasonably close to the actual ratings. The model took approximately 4 minutes and 16 seconds to run."
   ]
  },
  {
   "attachments": {},
   "cell_type": "markdown",
   "metadata": {},
   "source": [
    "# Item-Based Collaborative Filtering\n",
    "\n",
    "the model finds items that are similar to the target item based on the ratings they received from users. It then predicts the target user's rating for the target item based on the user's ratings for the similar items."
   ]
  },
  {
   "cell_type": "code",
   "execution_count": 18,
   "metadata": {},
   "outputs": [
    {
     "name": "stdout",
     "output_type": "stream",
     "text": [
      "Root Mean Squared Error: 1.422181994356813\n",
      "Mean Absolute Error: 1.1501393384975036\n",
      "CPU times: user 32min 39s, sys: 8min 39s, total: 41min 19s\n",
      "Wall time: 4min 29s\n"
     ]
    }
   ],
   "source": [
    "%%time\n",
    "# Initialize and train the User based KNN_CF model\n",
    "model_item_based_knn_cf = KNN_CF(k=5, user_based=False)\n",
    "model_item_based_knn_cf.fit(user_item_ratings)\n",
    "\n",
    "# predict and evaluate on the test set\n",
    "y_true = []\n",
    "y_pred = []\n",
    "\n",
    "for _, (user_id, movie_id, rating) in test_df.iterrows():\n",
    "    prediction = model_item_based_knn_cf.predict(user_id, movie_id)\n",
    "    \n",
    "    if prediction is not None:\n",
    "        y_true.append(rating)\n",
    "        y_pred.append(prediction)\n",
    "\n",
    "print(f\"Root Mean Squared Error: {rmse(y_true, y_pred)}\")\n",
    "print(f\"Mean Absolute Error: {mae(y_true, y_pred)}\")"
   ]
  },
  {
   "attachments": {},
   "cell_type": "markdown",
   "metadata": {},
   "source": [
    "# Auto-Adaptive Imputation (AutAI)"
   ]
  },
  {
   "cell_type": "code",
   "execution_count": 21,
   "metadata": {},
   "outputs": [
    {
     "ename": "",
     "evalue": "",
     "output_type": "error",
     "traceback": [
      "\u001b[1;31mCanceled future for execute_request message before replies were done"
     ]
    },
    {
     "ename": "",
     "evalue": "",
     "output_type": "error",
     "traceback": [
      "\u001b[1;31mThe Kernel crashed while executing code in the the current cell or a previous cell. Please review the code in the cell(s) to identify a possible cause of the failure. Click <a href='https://aka.ms/vscodeJupyterKernelCrash'>here</a> for more info. View Jupyter <a href='command:jupyter.viewOutput'>log</a> for further details."
     ]
    }
   ],
   "source": [
    "%%time\n",
    "\n",
    "def autai_imputation(R, active_user, active_item):\n",
    "    # Initialize the imputed matrix R_prime\n",
    "    R_prime = R.copy()\n",
    "\n",
    "    # Calculate similarity between each pair of users\n",
    "    sim = cosine_similarity(R)\n",
    "\n",
    "    # Identify the set of items rated by the active user\n",
    "    Ua = np.where(~np.isnan(R[active_user]))[0]\n",
    "\n",
    "    # Identify the set of items co-rated by the active user and each other user\n",
    "    Ts = set()\n",
    "    for ua_prime in Ua:\n",
    "        Taa_prime = np.where(~np.isnan(R[:, ua_prime]))[0]\n",
    "        Ts = Ts.union(Taa_prime)\n",
    "\n",
    "    # Identify the set of ratings by the active user and on the co-rated items\n",
    "    Na_s = R[np.ix_(Ua, list(Ts))]\n",
    "\n",
    "    # Perform imputation for each rating in Na_s\n",
    "    for ua_prime in range(Na_s.shape[0]):\n",
    "        for i in range(Na_s.shape[1]):\n",
    "            if np.isnan(Na_s[ua_prime, i]):\n",
    "                # Calculate the weighted average of the user's ratings, weighted by similarity\n",
    "                weights = sim[ua_prime, :]\n",
    "                ratings = R[:, i]\n",
    "                mask = ~np.isnan(ratings)\n",
    "                r_hat = np.average(ratings[mask], weights=weights[mask])\n",
    "                \n",
    "                # Impute the rating\n",
    "                R_prime[ua_prime, i] = r_hat\n",
    "\n",
    "    return R_prime\n",
    "\n",
    "# Perform imputation on the user-item ratings matrix\n",
    "user_item_ratings_imputed = autai_imputation(user_item_ratings.values, active_user=0, active_item=0)\n",
    "\n",
    "# Convert the imputed ratings matrix to a dataframe\n",
    "user_item_ratings_imputed = pd.DataFrame(user_item_ratings_imputed, index=user_item_ratings.index, columns=user_item_ratings.columns)\n",
    "\n",
    "# Split the data into train and test sets\n",
    "train_df, test_df = train_test_split(user_item_ratings_imputed, test_size=0.2, random_state=42)\n",
    "\n",
    "# Initialize and train the User based KNN_CF model\n",
    "model_user_based_knn_cf = KNN_CF(k=5, user_based=False)\n",
    "model_user_based_knn_cf.fit(train_df)\n",
    "\n",
    "# predict and evaluate on the test set\n",
    "y_true = []\n",
    "y_pred = []\n",
    "\n",
    "for _, (user_id, movie_id, rating) in test_df.iterrows():\n",
    "    prediction = model_user_based_knn_cf.predict(user_id, movie_id)\n",
    "    \n",
    "    if prediction is not None:\n",
    "        y_true.append(rating)\n",
    "        y_pred.append(prediction)\n",
    "\n",
    "print(f\"Root Mean Squared Error: {rmse(y_true, y_pred)}\")\n",
    "print(f\"Mean Absolute Error: {mae(y_true, y_pred)}\")\n",
    "\n"
   ]
  }
 ],
 "metadata": {
  "kernelspec": {
   "display_name": "Python 3 (ipykernel)",
   "language": "python",
   "name": "python3"
  },
  "language_info": {
   "codemirror_mode": {
    "name": "ipython",
    "version": 3
   },
   "file_extension": ".py",
   "mimetype": "text/x-python",
   "name": "python",
   "nbconvert_exporter": "python",
   "pygments_lexer": "ipython3",
   "version": "3.10.4"
  }
 },
 "nbformat": 4,
 "nbformat_minor": 4
}
