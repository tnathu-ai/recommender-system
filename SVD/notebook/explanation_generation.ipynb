{
 "cells": [
  {
   "cell_type": "code",
   "execution_count": 1,
   "metadata": {},
   "outputs": [
    {
     "name": "stdout",
     "output_type": "stream",
     "text": [
      "Requirement already satisfied: nltk in /Users/tnathu-ai/.conda/envs/Advanced_Programming_for_Data_Science/lib/python3.10/site-packages (3.7)\n",
      "Collecting rouge\n",
      "  Downloading rouge-1.0.1-py3-none-any.whl (13 kB)\n",
      "Requirement already satisfied: joblib in /Users/tnathu-ai/.conda/envs/Advanced_Programming_for_Data_Science/lib/python3.10/site-packages (from nltk) (0.16.0)\n",
      "Requirement already satisfied: regex>=2021.8.3 in /Users/tnathu-ai/.conda/envs/Advanced_Programming_for_Data_Science/lib/python3.10/site-packages (from nltk) (2022.8.17)\n",
      "Requirement already satisfied: click in /Users/tnathu-ai/.conda/envs/Advanced_Programming_for_Data_Science/lib/python3.10/site-packages (from nltk) (8.0.4)\n",
      "Requirement already satisfied: tqdm in /Users/tnathu-ai/.conda/envs/Advanced_Programming_for_Data_Science/lib/python3.10/site-packages (from nltk) (4.65.0)\n",
      "Requirement already satisfied: six in /Users/tnathu-ai/.conda/envs/Advanced_Programming_for_Data_Science/lib/python3.10/site-packages (from rouge) (1.16.0)\n",
      "Installing collected packages: rouge\n",
      "Successfully installed rouge-1.0.1\n"
     ]
    }
   ],
   "source": [
    "!pip install nltk rouge\n",
    "from nltk.translate.bleu_score import sentence_bleu\n",
    "from rouge import Rouge \n"
   ]
  },
  {
   "cell_type": "code",
   "execution_count": 3,
   "metadata": {},
   "outputs": [
    {
     "name": "stdout",
     "output_type": "stream",
     "text": [
      "BLEU-1: 0, BLEU-2: 0, BLEU-3: 0, BLEU-4: 0\n",
      "BLEU-1: 0.13406400920712788, BLEU-2: 4.471666651098519e-155, BLEU-3: 3.506464372012367e-204, BLEU-4: 8.166726842395623e-232\n",
      "BLEU-1: 0.016949152542372878, BLEU-2: 0.006929256557331167, BLEU-3: 1.120667676549564e-103, BLEU-4: 1.2416967272489542e-155\n",
      "ROUGE-1: {'r': 0.0, 'p': 0.0, 'f': 0.0}, ROUGE-2: {'r': 0.0, 'p': 0.0, 'f': 0.0}, ROUGE-L: {'r': 0.0, 'p': 0.0, 'f': 0.0}\n",
      "ROUGE-1: {'r': 0.14285714285714285, 'p': 0.2, 'f': 0.1666666618055557}, ROUGE-2: {'r': 0.0, 'p': 0.0, 'f': 0.0}, ROUGE-L: {'r': 0.14285714285714285, 'p': 0.2, 'f': 0.1666666618055557}\n",
      "ROUGE-1: {'r': 0.5, 'p': 0.03225806451612903, 'f': 0.0606060594674013}, ROUGE-2: {'r': 0.07692307692307693, 'p': 0.002967359050445104, 'f': 0.005714284999020498}, ROUGE-L: {'r': 0.42857142857142855, 'p': 0.027649769585253458, 'f': 0.05194805080939266}\n"
     ]
    }
   ],
   "source": [
    "\n",
    "# Define the texts\n",
    "ground_truth = \"this is the best deal I've seen on nail polish in a long time\"\n",
    "p5_output = \"great price and great quality and great price\"\n",
    "paper_chatgpt_output = \"SHANY's Nail Art Set is a must-have for stunning manicures.\"\n",
    "my_output = \"\"\"Title: An Absolute Delight for All Ages!\n",
    "Rating: ⭐⭐⭐⭐⭐ (5.0 stars)\n",
    "Review:\n",
    "I recently purchased this incredible product as a Christmas gift for my fourteen-year-old niece, and I must say, it exceeded all expectations! In fact, I couldn't resist the temptation to try it out for myself, and before I knew it, I found myself hooked, going back for more and more.\n",
    "The sheer enjoyment and entertainment this product provides are unparalleled. From the moment I gave it a try, I was captivated by its charm and versatility. It's safe to say that it quickly became a hit not only with my niece but also with everyone who joined in on the fun.\n",
    "One of the standout features of this product is its ability to engage people of all ages. Whether you're a teenager, a young adult, or even a seasoned grown-up like myself, it offers an immersive experience that guarantees a good time. It effortlessly brings people together, creating memorable moments and lasting laughter.\n",
    "I was so enthralled by the product's capabilities that I even contemplated keeping a few for myself! The thought of having this endless source of enjoyment within arm's reach was incredibly tempting. But alas, I couldn't deny the joy it would bring to my niece and others, so I decided to share the experience and spread the fun.\n",
    "Not only is this product incredibly entertaining, but it also boasts top-notch quality. Its durability ensures that it can withstand the excitement of countless uses, making it a reliable investment that will continue to bring joy for years to come. The design is sleek and intuitive, adding to the overall appeal and enhancing the overall experience.\n",
    "In conclusion, this product is an absolute must-have for anyone looking to bring smiles, laughter, and endless fun into their lives. Its universal appeal, exceptional quality, and addictive nature make it a perfect gift for loved ones or even a delightful indulgence for yourself. Trust me when I say, you won't regret adding this gem to your collection. Prepare to be captivated, entertained, and immersed in a world of pure enjoyment with this incredible product!\n",
    "\"\"\"  \n",
    "\n",
    "# BLEU scores (up to n-grams, where n=4)\n",
    "for model_output in [p5_output, paper_chatgpt_output, my_output]:\n",
    "    bleu1 = sentence_bleu([ground_truth.split()], model_output.split(), weights=(1, 0, 0, 0))\n",
    "    bleu2 = sentence_bleu([ground_truth.split()], model_output.split(), weights=(0.5, 0.5, 0, 0))\n",
    "    bleu3 = sentence_bleu([ground_truth.split()], model_output.split(), weights=(0.33, 0.33, 0.33, 0))\n",
    "    bleu4 = sentence_bleu([ground_truth.split()], model_output.split(), weights=(0.25, 0.25, 0.25, 0.25))\n",
    "    print(f'BLEU-1: {bleu1}, BLEU-2: {bleu2}, BLEU-3: {bleu3}, BLEU-4: {bleu4}')\n",
    "\n",
    "# ROUGE scores\n",
    "rouge = Rouge()\n",
    "for model_output in [p5_output, paper_chatgpt_output, my_output]:\n",
    "    scores = rouge.get_scores(model_output, ground_truth)\n",
    "    print(f'ROUGE-1: {scores[0][\"rouge-1\"]}, ROUGE-2: {scores[0][\"rouge-2\"]}, ROUGE-L: {scores[0][\"rouge-l\"]}')\n"
   ]
  },
  {
   "cell_type": "code",
   "execution_count": null,
   "metadata": {},
   "outputs": [],
   "source": []
  }
 ],
 "metadata": {
  "kernelspec": {
   "display_name": "Advanced_Programming_for_Data_Science",
   "language": "python",
   "name": "python3"
  },
  "language_info": {
   "codemirror_mode": {
    "name": "ipython",
    "version": 3
   },
   "file_extension": ".py",
   "mimetype": "text/x-python",
   "name": "python",
   "nbconvert_exporter": "python",
   "pygments_lexer": "ipython3",
   "version": "3.10.4"
  },
  "orig_nbformat": 4
 },
 "nbformat": 4,
 "nbformat_minor": 2
}
